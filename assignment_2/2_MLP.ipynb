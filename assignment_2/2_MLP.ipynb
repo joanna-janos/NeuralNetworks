{
 "cells": [
  {
   "cell_type": "markdown",
   "metadata": {},
   "source": [
    "# Lab. 2 Multi Layered Networks\n",
    "\n",
    "### Ładowanie danych\n",
    "\n",
    "PyTroch, a właściwie pakiet `torchvision` udostępnia parę przydatnych rzeczy, z których skorzystamy na dzisiejszych zajęciach.\n",
    "\n",
    "Zacznijmy od ściąganie i ładowania danych, w [`torchvision.datasets`](https://pytorch.org/docs/stable/torchvision/datasets.html) znajdziemy popularne datasety, zajmiemy się dzisiaj MNISTem."
   ]
  },
  {
   "cell_type": "code",
   "execution_count": 1,
   "metadata": {},
   "outputs": [
    {
     "name": "stdout",
     "output_type": "stream",
     "text": [
      "Training data mean: 0.13054749369621277\n",
      "Training data std: 0.30810782313346863\n"
     ]
    }
   ],
   "source": [
    "import torch\n",
    "from torchvision.datasets import MNIST\n",
    "from torchvision.transforms import Compose, ToTensor, Normalize, Lambda\n",
    "\n",
    "train_dataset = MNIST(root='.', download=True, train=True, transform=ToTensor())\n",
    "\n",
    "train_mean = (train_dataset.data.type(torch.float32) / 255).mean()\n",
    "train_std = (train_dataset.data.type(torch.float32) / 255).std()\n",
    "\n",
    "print('Training data mean: {}'.format(train_mean))\n",
    "print('Training data std: {}'.format(train_std))"
   ]
  },
  {
   "cell_type": "code",
   "execution_count": 2,
   "metadata": {},
   "outputs": [
    {
     "data": {
      "text/plain": [
       "Dataset MNIST\n",
       "    Number of datapoints: 60000\n",
       "    Split: train\n",
       "    Root Location: .\n",
       "    Transforms (if any): Compose(\n",
       "                             ToTensor()\n",
       "                             Normalize(mean=[tensor(0.1305)], std=[tensor(0.3081)])\n",
       "                             Lambda()\n",
       "                         )\n",
       "    Target Transforms (if any): None"
      ]
     },
     "execution_count": 2,
     "metadata": {},
     "output_type": "execute_result"
    }
   ],
   "source": [
    "transform = Compose([\n",
    "    ToTensor(),\n",
    "    Normalize(mean=[train_mean] ,std=[train_std]),\n",
    "    Lambda(lambda x: x.flatten())\n",
    "])\n",
    "\n",
    "train_data = MNIST(root='.', download=True, train=True, transform=transform)\n",
    "test_data = MNIST(root='.', download=True, train=False, transform=transform)\n",
    "\n",
    "train_data"
   ]
  },
  {
   "cell_type": "markdown",
   "metadata": {},
   "source": [
    "Oprócz tego z samego `torcha` możemy skorzystać z [`DataLoadera`](https://pytorch.org/docs/stable/data.html#torch.utils.data.DataLoader), który załatwia za nas sporo przydatnych rzeczy typu shufflowanie i batchowanie danych."
   ]
  },
  {
   "cell_type": "code",
   "execution_count": 3,
   "metadata": {},
   "outputs": [
    {
     "name": "stdout",
     "output_type": "stream",
     "text": [
      "torch.Size([10, 784])\n",
      "torch.float32\n",
      "tensor([5, 0, 4, 1, 9, 2, 1, 3, 1, 4])\n"
     ]
    }
   ],
   "source": [
    "from torch.utils.data import DataLoader\n",
    "\n",
    "train_loader = torch.utils.data.DataLoader(train_data, batch_size=10)\n",
    "\n",
    "for x, y in train_loader:\n",
    "    print(x.shape)\n",
    "    print(x.dtype)\n",
    "    print(y)\n",
    "    break"
   ]
  },
  {
   "cell_type": "markdown",
   "metadata": {},
   "source": [
    "Wygląda na to, że aż tak bardzo za darmo wszystkiego nie dostaniemy, klasa `MNIST` zwraca nam dane w postaci obiektów [PILa](https://pillow.readthedocs.io/en/stable/). Musimy coś z tym zrobić.\n",
    "\n",
    "## Zadanie 1.\n",
    "1. Za pomocą [`transformerów`](https://pytorch.org/docs/stable/torchvision/transforms.html) przerobić powyższy kod tak aby zadziałał.  \n",
    "**HINT**: sprawdzić jakie argumenty przyjmuje klasa `MNIST`.\n",
    "2. Policzyć średnią i odchylenie standardowe wartości pojedynczego piksela dla całego zbioru trenującego i użyć ich do znormalizowania danych trenujących.  \n",
    "**HINT**: Tutaj torchvision też powinien nam to ułatwić.\n",
    "3. Zmienić \"kształt\" jednego przykładu z `28x28` na `784`.  \n",
    "**HINT**: [`Lambda`](https://pytorch.org/docs/stable/torchvision/transforms.html#torchvision.transforms.Lambda)\n",
    "\n",
    "Uwaga: zwrócić uwagę co dokładnie robią używane _transformery_!\n",
    "\n",
    "## Zadanie 2.\n",
    "\n",
    "Ręcznie zaimplementować prostą sieć z jedną warstwą ukrtyą. Sieć ma mieć:\n",
    "1. Jedną warstwę ukrytą rozmiaru 500 z wagami zainicjalizowanymi ze standardowego rozkładu normalnego.\n",
    "2. Warstwa przy obu operacjach ma mieć uczone _biasy_ zainicjalizowane na 0.\n",
    "\n",
    "**HINT**: Do rozkładu normalnego najlepiej użyć [`torch.randn`](https://pytorch.org/docs/stable/torch.html#torch.randn). Sprawdzić jakie ważne argumenty ta funkcja przyjmuje!\n",
    "\n",
    "Należy oprócz tego zaimplementować pętlę uczenia z użyciem PyTorchowej funkcji kosztu _cross entropy_ i optymalizatora SGD."
   ]
  },
  {
   "cell_type": "code",
   "execution_count": 4,
   "metadata": {},
   "outputs": [],
   "source": [
    "from typing import List\n",
    "\n",
    "class CustomNetwork(object):\n",
    "    \"\"\"\n",
    "    Simple 1-hidden layer linear neural network\n",
    "    \"\"\"\n",
    "    def __init__(self, input_size, n_classes, hidden_layer_size):\n",
    "        \"\"\"\n",
    "        Initialize network's weights \n",
    "        \"\"\"\n",
    "        self.weight_1: torch.Tensor = torch.randn(size=(input_size, hidden_layer_size), requires_grad=True)\n",
    "        self.bias_1: torch.Tensor = torch.zeros(size=(hidden_layer_size,), requires_grad=True)        \n",
    "        self.weight_2: torch.Tensor = torch.randn(size=(hidden_layer_size, n_classes), requires_grad=True)\n",
    "        self.bias_2: torch.Tensor = torch.zeros(size=(n_classes,), requires_grad=True)\n",
    "\n",
    "        \n",
    "    def __call__(self, x: torch.Tensor) -> torch.Tensor:\n",
    "        \"\"\"\n",
    "        Forward pass through the network\n",
    "        \"\"\"\n",
    "        out1 = x.mm(self.weight_1) + self.bias_1\n",
    "        out2 = out1.mm(self.weight_2) + self.bias_2\n",
    "        return out2\n",
    "    \n",
    "    \n",
    "    def parameters(self) -> List[torch.Tensor]:\n",
    "        \"\"\"\n",
    "        Returns all trainable parameters \n",
    "        \"\"\"\n",
    "        return [self.weight_1, self.bias_1, self.weight_2, self.bias_2]"
   ]
  },
  {
   "cell_type": "code",
   "execution_count": 5,
   "metadata": {
    "scrolled": true
   },
   "outputs": [
    {
     "name": "stdout",
     "output_type": "stream",
     "text": [
      "Epoch 0 iter 900/937 loss: 42.645645141601566\n",
      "Test accuracy: 0.8298\n",
      "Epoch 1 iter 900/937 loss: 35.844032287597656\n",
      "Test accuracy: 0.8401\n",
      "Epoch 2 iter 900/937 loss: 27.460433959960938\n",
      "Test accuracy: 0.8528\n"
     ]
    }
   ],
   "source": [
    "from torch.optim import SGD\n",
    "from torch.nn.functional import cross_entropy\n",
    "\n",
    "# some hyperparams\n",
    "batch_size: int = 64\n",
    "epoch: int = 3\n",
    "lr: float = 0.01\n",
    "momentum: float = 0.9\n",
    "input_size: int = 784\n",
    "n_classes : int = 10\n",
    "hidden_layer_size : int = 500\n",
    "\n",
    "# prepare data loaders, based on the already loaded datasets\n",
    "train_loader = torch.utils.data.DataLoader(train_data, batch_size=batch_size)\n",
    "test_loader = torch.utils.data.DataLoader(test_data, batch_size=batch_size)\n",
    "\n",
    "# initialize the model\n",
    "model: CustomNetwork = CustomNetwork(input_size=input_size,\n",
    "                                     n_classes=n_classes,\n",
    "                                     hidden_layer_size=hidden_layer_size)\n",
    "\n",
    "# initialize the optimizer\n",
    "optimizer: torch.optim.Optimizer = SGD(model.parameters(), lr=lr, momentum=momentum)\n",
    "\n",
    "# training loop\n",
    "for e in range(epoch):\n",
    "    for i, (x, y) in enumerate(train_loader):\n",
    "        # reset the gradients from previous iteration\n",
    "        optimizer.zero_grad()\n",
    "        # pass through the network\n",
    "        output: torch.Tensor = model(x)\n",
    "        # calculate loss\n",
    "        loss: torch.Tensor = cross_entropy(output, y)\n",
    "        # backward pass through the network\n",
    "        loss.backward() \n",
    "        # apply the gradients\n",
    "        optimizer.step()\n",
    "        # log the loss value\n",
    "        if (i + 1) % 100 == 0:\n",
    "            print(f\"Epoch {e} iter {i+1}/{len(train_data) // batch_size} loss: {loss.item()}\", end=\"\\r\")\n",
    "            \n",
    "    # at the end of an epoch run evaluation on the test set\n",
    "    with torch.no_grad():\n",
    "        # initialize the number of correct predictions\n",
    "        correct: int = 0 \n",
    "        for i, (x, y) in enumerate(test_loader):\n",
    "            # pass through the network\n",
    "            output: torch.Tensor = model(x)\n",
    "            # update the number of correctly predicted examples\n",
    "            correct += float(sum(output.argmax(dim=1) == y))\n",
    "\n",
    "        print(f\"\\nTest accuracy: {correct / len(test_data)}\")\n",
    "\n",
    "        \n",
    "# this is your test\n",
    "assert correct / len(test_data) > 0.8, \"Subject to random seed you should be able to get >80% accuracy\""
   ]
  },
  {
   "cell_type": "markdown",
   "metadata": {},
   "source": [
    "## Zadanie 3.\n",
    "\n",
    "1. Przepisać całą sieć do PyTorcha używając [`torch.nn.Module`](https://pytorch.org/docs/stable/nn.html#torch.nn.Module), [`torch.nn.Linear`](https://pytorch.org/docs/stable/nn.html#torch.nn.Linear).\n",
    "2. Dodać [nieliniowe aktywacje](https://pytorch.org/docs/stable/nn.html#non-linear-activations-weighted-sum-nonlinearity) i dodatkową warstwę, tak aby wyciągnąć przynajmniej 95% testowego accuracy w 3 epoki."
   ]
  },
  {
   "cell_type": "code",
   "execution_count": 6,
   "metadata": {},
   "outputs": [],
   "source": [
    "from torch.nn import LeakyReLU, ELU\n",
    "\n",
    "class TorchNetwork(torch.nn.Module):\n",
    "    \"\"\"\n",
    "    Simple 2-hidden layer non-linear neural network\n",
    "    \"\"\"\n",
    "    def __init__(self, input_size, n_classes, hidden_layer_1_size, hidden_layer_2_size):\n",
    "        super(TorchNetwork, self).__init__()\n",
    "        self.linear1 = torch.nn.Linear(input_size, hidden_layer_1_size)\n",
    "        self.linear2 = torch.nn.Linear(hidden_layer_1_size, hidden_layer_2_size)\n",
    "        self.linear3 = torch.nn.Linear(hidden_layer_2_size, n_classes)\n",
    "        self.activation1 = LeakyReLU(0.1)\n",
    "        self.activation2 = ELU()\n",
    "    \n",
    "    \n",
    "    def forward(self, x):\n",
    "        \"\"\"\n",
    "        Forward pass through the network\n",
    "        \"\"\"\n",
    "        hidden_1_out = self.linear1(x)\n",
    "        hidden_2_out = self.activation1(self.linear2(hidden_1_out))\n",
    "        out = self.activation2(self.linear3(hidden_2_out))\n",
    "        return out"
   ]
  },
  {
   "cell_type": "code",
   "execution_count": 7,
   "metadata": {},
   "outputs": [
    {
     "name": "stdout",
     "output_type": "stream",
     "text": [
      "Epoch 0 iter 900/937 loss: 0.06910865753889084\n",
      "Test accuracy: 0.9377\n",
      "Epoch 1 iter 900/937 loss: 0.03264394402503967\n",
      "Test accuracy: 0.9548\n",
      "Epoch 2 iter 900/937 loss: 0.022021561861038208\n",
      "Test accuracy: 0.9596\n"
     ]
    }
   ],
   "source": [
    "from torch.optim import SGD\n",
    "from torch.nn.functional import cross_entropy\n",
    "\n",
    "# some hyperparams\n",
    "batch_size: int = 64\n",
    "epoch: int = 3\n",
    "lr: float = 0.01\n",
    "momentum: float = 0.9\n",
    "input_size: int = 784\n",
    "n_classes : int = 10\n",
    "hidden_layer_1_size : int = 500\n",
    "hidden_layer_2_size : int = 300\n",
    "\n",
    "# prepare data loaders, based on the already loaded datasets\n",
    "train_loader = torch.utils.data.DataLoader(train_data, batch_size=batch_size)\n",
    "test_loader = torch.utils.data.DataLoader(test_data, batch_size=batch_size)\n",
    "\n",
    "# initialize the model\n",
    "model: TorchNetwork = TorchNetwork(input_size=input_size, \n",
    "                                   n_classes=n_classes,\n",
    "                                   hidden_layer_1_size=hidden_layer_1_size, \n",
    "                                   hidden_layer_2_size=hidden_layer_2_size)\n",
    "\n",
    "# initialize the optimizer\n",
    "optimizer: torch.optim.Optimizer = SGD(model.parameters(), lr=lr, momentum=momentum)\n",
    "\n",
    "# training loop\n",
    "for e in range(epoch):\n",
    "    for i, (x, y) in enumerate(train_loader):\n",
    "        \n",
    "        optimizer.zero_grad()\n",
    "        output: torch.Tensor = model(x)\n",
    "        loss: torch.Tensor = cross_entropy(output, y)\n",
    "        loss.backward()\n",
    "        optimizer.step()\n",
    "        if (i + 1) % 100 == 0:\n",
    "            print(f\"Epoch {e} iter {i+1}/{len(train_data) // batch_size} loss: {loss.item()}\", end=\"\\r\")\n",
    "            \n",
    "    # at the end of an epoch run evaluation on the test set\n",
    "    with torch.no_grad():\n",
    "        correct: int = 0\n",
    "        for i, (x, y) in enumerate(test_loader):\n",
    "            output: torch.Tensor = model(x)\n",
    "            correct += float(sum(output.argmax(dim=1) == y))\n",
    "\n",
    "        print(f\"\\nTest accuracy: {correct / len(test_data)}\")\n",
    "            \n",
    "            \n",
    "# this is your test       \n",
    "assert correct / len(test_data) > 0.95, \"Subject to random seed you should be able to get >95% accuracy\""
   ]
  }
 ],
 "metadata": {
  "kernelspec": {
   "display_name": "Python 3",
   "language": "python",
   "name": "python3"
  },
  "language_info": {
   "codemirror_mode": {
    "name": "ipython",
    "version": 3
   },
   "file_extension": ".py",
   "mimetype": "text/x-python",
   "name": "python",
   "nbconvert_exporter": "python",
   "pygments_lexer": "ipython3",
   "version": "3.6.8"
  }
 },
 "nbformat": 4,
 "nbformat_minor": 2
}
