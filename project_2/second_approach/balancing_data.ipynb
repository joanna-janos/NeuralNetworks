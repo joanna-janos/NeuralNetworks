{
 "cells": [
  {
   "cell_type": "markdown",
   "metadata": {},
   "source": [
    "#  \"UJ SN2019 Zadanie 2: Nocne Ptasie Wędrówki\""
   ]
  },
  {
   "cell_type": "markdown",
   "metadata": {},
   "source": [
    "## Balancing data"
   ]
  },
  {
   "cell_type": "markdown",
   "metadata": {},
   "source": [
    "#### Load previously prepared train data and labels representation"
   ]
  },
  {
   "cell_type": "code",
   "execution_count": 1,
   "metadata": {},
   "outputs": [],
   "source": [
    "import pathlib\n",
    "import numpy as np\n",
    "np.random.seed(0) \n",
    "\n",
    "def load_data(directory, dataset_name):\n",
    "    p = pathlib.Path(directory)\n",
    "    if not p.is_dir():\n",
    "        raise ValueError('Directory: {directory} does not exist. Please, run firstly imbalanced_data.ipynb for creating data')\n",
    "    return np.load(pathlib.Path(directory + dataset_name + '.npy'))\n",
    "\n",
    "\n",
    "data_dir ='data/imbalanced/'\n",
    "X_train = load_data(data_dir, 'X_train')\n",
    "y_train = load_data(data_dir, 'y_train')"
   ]
  },
  {
   "cell_type": "code",
   "execution_count": 2,
   "metadata": {},
   "outputs": [],
   "source": [
    "def check_amount_of_data(data):\n",
    "    print(f\"Number of samples for 'bird exists': {sum(data.flatten() == 1)}\")\n",
    "    print(f\"Number of samples for 'bird does not exists': {sum(data.flatten() == 0)}\")"
   ]
  },
  {
   "cell_type": "markdown",
   "metadata": {},
   "source": [
    "#### Check differences between amount of data for 'bird exists' and 'bird does not exist'"
   ]
  },
  {
   "cell_type": "code",
   "execution_count": 3,
   "metadata": {},
   "outputs": [
    {
     "name": "stdout",
     "output_type": "stream",
     "text": [
      "Number of samples for 'bird exists': 464\n",
      "Number of samples for 'bird does not exists': 3146\n"
     ]
    }
   ],
   "source": [
    "check_amount_of_data(y_train)"
   ]
  },
  {
   "cell_type": "markdown",
   "metadata": {},
   "source": [
    "### Perform random over-sampling to even distribution"
   ]
  },
  {
   "cell_type": "code",
   "execution_count": 4,
   "metadata": {},
   "outputs": [],
   "source": [
    "initial_x_train_shape = X_train.shape[1:]\n",
    "initial_y_train_shape = y_train.shape"
   ]
  },
  {
   "cell_type": "code",
   "execution_count": 5,
   "metadata": {},
   "outputs": [],
   "source": [
    "from imblearn.over_sampling import RandomOverSampler\n",
    "\n",
    "random_over_sampler = RandomOverSampler(random_state=0)\n",
    "X_resampled, y_resampled = random_over_sampler.fit_resample(X_train.reshape(X_train.shape[0],-1), y_train.reshape(-1))"
   ]
  },
  {
   "cell_type": "code",
   "execution_count": 6,
   "metadata": {},
   "outputs": [],
   "source": [
    "X_resampled = X_resampled.reshape(-1, *initial_x_train_shape)\n",
    "y_resampled = y_resampled.reshape(-1, 1)"
   ]
  },
  {
   "cell_type": "markdown",
   "metadata": {},
   "source": [
    "#### Check amount of data for 'bird exists' and 'bird does not exist'"
   ]
  },
  {
   "cell_type": "code",
   "execution_count": 7,
   "metadata": {},
   "outputs": [
    {
     "name": "stdout",
     "output_type": "stream",
     "text": [
      "Number of samples for 'bird exists': 3146\n",
      "Number of samples for 'bird does not exists': 3146\n"
     ]
    }
   ],
   "source": [
    "check_amount_of_data(y_resampled)"
   ]
  },
  {
   "cell_type": "code",
   "execution_count": 8,
   "metadata": {},
   "outputs": [],
   "source": [
    "import pathlib\n",
    "\n",
    "def create_not_existing_directory(directory: str):\n",
    "    \"\"\"\n",
    "    Create not existing directory. \n",
    "    If directory exists, do nothing.\n",
    "    :param directory: str\n",
    "        directory to create\n",
    "    \"\"\"\n",
    "    p = pathlib.Path(directory)\n",
    "    if not p.is_dir():\n",
    "        print(f'Creating directory: {directory} as it does not exist')\n",
    "        p.mkdir(parents=True, exist_ok=True)\n",
    "\n",
    "def save_datasets(data_file_mapping, directory='data/'):\n",
    "    create_not_existing_directory(directory)\n",
    "    for filename in data_file_mapping:\n",
    "        np.save(pathlib.Path(directory + filename), data_file_mapping[filename])"
   ]
  },
  {
   "cell_type": "code",
   "execution_count": 9,
   "metadata": {},
   "outputs": [
    {
     "name": "stdout",
     "output_type": "stream",
     "text": [
      "Creating directory: data/balanced/ as it does not exist\n"
     ]
    }
   ],
   "source": [
    "train_test_dataset_filename_mapping = {\n",
    "    'X_resampled': X_resampled,\n",
    "    'y_resampled': y_resampled\n",
    "    \n",
    "}\n",
    "\n",
    "save_datasets(train_test_dataset_filename_mapping, directory='data/balanced/')"
   ]
  },
  {
   "cell_type": "code",
   "execution_count": 10,
   "metadata": {},
   "outputs": [],
   "source": [
    "from sklearn.model_selection import StratifiedKFold\n",
    "\n",
    "stratified_k_fold = StratifiedKFold(n_splits=5)\n",
    "stratified_k_fold.get_n_splits(X_resampled, y_resampled)\n",
    "\n",
    "dataset_filename_mapping = {}\n",
    "\n",
    "for train_index, validation_index in stratified_k_fold.split(X_resampled, y_resampled):\n",
    "    X_train, X_validation = X_resampled[train_index], X_resampled[validation_index]\n",
    "    y_train, y_validation = y_resampled[train_index], y_resampled[validation_index]\n",
    "    dataset_filename_mapping['X_train'] = X_train\n",
    "    dataset_filename_mapping['y_train'] = y_train\n",
    "    dataset_filename_mapping['X_validation'] = X_validation\n",
    "    dataset_filename_mapping['y_validation'] = y_validation"
   ]
  },
  {
   "cell_type": "markdown",
   "metadata": {},
   "source": [
    "#### Check amount of data for 'bird exists' and 'bird does not exist' in train and validation datasets"
   ]
  },
  {
   "cell_type": "markdown",
   "metadata": {},
   "source": [
    "- Train dataset"
   ]
  },
  {
   "cell_type": "code",
   "execution_count": 11,
   "metadata": {},
   "outputs": [
    {
     "name": "stdout",
     "output_type": "stream",
     "text": [
      "Number of samples for 'bird exists': 2517\n",
      "Number of samples for 'bird does not exists': 2517\n"
     ]
    }
   ],
   "source": [
    "check_amount_of_data(y_train)"
   ]
  },
  {
   "cell_type": "markdown",
   "metadata": {},
   "source": [
    "- Validation dataset"
   ]
  },
  {
   "cell_type": "code",
   "execution_count": 12,
   "metadata": {},
   "outputs": [
    {
     "name": "stdout",
     "output_type": "stream",
     "text": [
      "Number of samples for 'bird exists': 629\n",
      "Number of samples for 'bird does not exists': 629\n"
     ]
    }
   ],
   "source": [
    "check_amount_of_data(y_validation)"
   ]
  },
  {
   "cell_type": "code",
   "execution_count": 13,
   "metadata": {},
   "outputs": [
    {
     "name": "stdout",
     "output_type": "stream",
     "text": [
      "Creating directory: data/balanced/splitted/ as it does not exist\n"
     ]
    }
   ],
   "source": [
    "save_datasets(dataset_filename_mapping, directory='data/balanced/splitted/')"
   ]
  }
 ],
 "metadata": {
  "kernelspec": {
   "display_name": "Python 3",
   "language": "python",
   "name": "python3"
  },
  "language_info": {
   "codemirror_mode": {
    "name": "ipython",
    "version": 3
   },
   "file_extension": ".py",
   "mimetype": "text/x-python",
   "name": "python",
   "nbconvert_exporter": "python",
   "pygments_lexer": "ipython3",
   "version": "3.6.8"
  }
 },
 "nbformat": 4,
 "nbformat_minor": 2
}
