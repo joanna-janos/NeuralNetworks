{
 "cells": [
  {
   "cell_type": "markdown",
   "metadata": {},
   "source": [
    "#  \"UJ SN2019 Zadanie 2: Nocne Ptasie Wędrówki\""
   ]
  },
  {
   "cell_type": "markdown",
   "metadata": {},
   "source": [
    "# Convolutional neural network"
   ]
  },
  {
   "cell_type": "markdown",
   "metadata": {},
   "source": [
    "## Train, validation and test data preparation"
   ]
  },
  {
   "cell_type": "code",
   "execution_count": 1,
   "metadata": {},
   "outputs": [],
   "source": [
    "import pathlib\n",
    "import numpy as np\n",
    "\n",
    "SEED = 1024\n",
    "np.random.seed(SEED)\n",
    "\n",
    "\n",
    "def load_data(directory, dataset_name):\n",
    "    p = pathlib.Path(directory)\n",
    "    if not p.is_dir():\n",
    "        raise ValueError(\n",
    "            'Directory: {directory} does not exist. Please, run firstly data_preparation.ipynb for creating data')\n",
    "    return np.load(pathlib.Path(directory + dataset_name + '.npy'))\n",
    "\n",
    "\n",
    "def load_train_and_validation_data(data_dir):\n",
    "    X_train = load_data(data_dir, 'X_train')\n",
    "    y_train = load_data(data_dir, 'y_train')\n",
    "    X_validation = load_data(data_dir, 'X_validation')\n",
    "    y_validation = load_data(data_dir, 'y_validation')\n",
    "    return X_train, y_train, X_validation, y_validation\n",
    "\n",
    "\n",
    "data_directory = '../../data/'"
   ]
  },
  {
   "cell_type": "code",
   "execution_count": 2,
   "metadata": {},
   "outputs": [],
   "source": [
    "from typing import Sequence\n",
    "\n",
    "import torch\n",
    "from torch.utils.data import TensorDataset, DataLoader\n",
    "\n",
    "torch.manual_seed(SEED)\n",
    "\n",
    "BATCH_SIZE = 64\n",
    "\n",
    "def get_train_and_validation_dataloaders(train_X, train_y, validation_X, validation_y, batch_size=64) -> Sequence[\n",
    "    torch.utils.data.TensorDataset]:\n",
    "    X_train: torch.Tensor = torch.from_numpy(train_X).float()\n",
    "    X_validation: torch.Tensor = torch.from_numpy(validation_X).float()\n",
    "\n",
    "    y_train: torch.Tensor = torch.from_numpy(train_y).float()\n",
    "    y_validation: torch.Tensor = torch.from_numpy(validation_y).float()\n",
    "\n",
    "    train_dataset = TensorDataset(X_train, y_train)\n",
    "    validation_dataset = TensorDataset(X_validation, y_validation)\n",
    "\n",
    "    train_dataloader = DataLoader(train_dataset, batch_size=batch_size, shuffle=False)\n",
    "    validation_dataloader = DataLoader(validation_dataset, batch_size=batch_size, shuffle=False)\n",
    "\n",
    "    return train_dataloader, validation_dataloader"
   ]
  },
  {
   "cell_type": "code",
   "execution_count": 3,
   "metadata": {},
   "outputs": [],
   "source": [
    "train_X, train_y, validation_X, validation_y = load_train_and_validation_data(data_directory)\n",
    "train_X = train_X.reshape(-1, train_X.shape[2], train_X.shape[3])\n",
    "train_y = train_y.reshape(-1)\n",
    "validation_X = validation_X.reshape(-1, validation_X.shape[2], validation_X.shape[3])\n",
    "validation_y = validation_y.reshape(-1)\n",
    "train_dataloader, validation_dataloader = get_train_and_validation_dataloaders(train_X, train_y, validation_X,\n",
    "                                                                               validation_y)"
   ]
  },
  {
   "cell_type": "markdown",
   "metadata": {},
   "source": [
    "#### Check count of each class in train labels"
   ]
  },
  {
   "cell_type": "code",
   "execution_count": 5,
   "metadata": {},
   "outputs": [
    {
     "name": "stdout",
     "output_type": "stream",
     "text": [
      "28343\n",
      "21587\n"
     ]
    }
   ],
   "source": [
    "counter_one = 0\n",
    "counter_zero = 0\n",
    "for label in train_y:\n",
    "    if label == 1:\n",
    "        counter_one +=1\n",
    "    else:\n",
    "        counter_zero +=1\n",
    "        \n",
    "print(counter_zero)\n",
    "print(counter_one)"
   ]
  },
  {
   "cell_type": "markdown",
   "metadata": {},
   "source": [
    "## Convolutional neural network\n",
    "Predict bird's voice existing probability in 0.1 s"
   ]
  },
  {
   "cell_type": "code",
   "execution_count": 7,
   "metadata": {},
   "outputs": [],
   "source": [
    "class BirdDetector(torch.nn.Module):\n",
    "    \n",
    "    def __init__(self):\n",
    "        super(BirdDetector, self).__init__()\n",
    "        self.pool = torch.nn.MaxPool2d(2)\n",
    "        \n",
    "        self.conv1 = torch.nn.Conv2d(in_channels=1, out_channels=128, kernel_size=5, padding=2)\n",
    "        self.bn1 = torch.nn.BatchNorm2d(128)\n",
    "        \n",
    "        self.conv2 = torch.nn.Conv2d(in_channels=128, out_channels=96, kernel_size=5, padding=2)\n",
    "        self.bn2 = torch.nn.BatchNorm2d(96)\n",
    "        \n",
    "        self.conv3 = torch.nn.Conv2d(in_channels=96, out_channels=64, kernel_size=3, padding=1)\n",
    "        self.bn3 = torch.nn.BatchNorm2d(64)\n",
    "        \n",
    "        self.fc1 = torch.nn.Linear(448, 100)\n",
    "        self.fc2 = torch.nn.Linear(100, 1)\n",
    "        \n",
    "        self.sigmoid = torch.nn.Sigmoid()\n",
    "            \n",
    "    def forward(self, x):\n",
    "        \n",
    "        out = self.pool(self.bn1(torch.relu(self.conv1(x))))\n",
    "        out = self.pool(self.bn2(torch.relu(self.conv2(out))))\n",
    "        out = self.pool(self.bn3(torch.relu(self.conv3(out))))\n",
    "        \n",
    "        out = out.view(out.size(0), -1)\n",
    "        \n",
    "        out = self.fc1(out)\n",
    "        out = self.fc2(out)\n",
    "        \n",
    "        return self.sigmoid(out)\n",
    "    \n",
    "model = BirdDetector()"
   ]
  },
  {
   "cell_type": "markdown",
   "metadata": {},
   "source": [
    "#### Create directory for models if not exists"
   ]
  },
  {
   "cell_type": "code",
   "execution_count": 8,
   "metadata": {},
   "outputs": [],
   "source": [
    "saved_models_directory = '../../saved_model/'\n",
    "p = pathlib.Path(saved_models_directory)\n",
    "if not p.is_dir():\n",
    "    print(f'Creating directory: {saved_models_directory} as it does not exist')\n",
    "    p.mkdir(parents=True, exist_ok=True)"
   ]
  },
  {
   "cell_type": "markdown",
   "metadata": {},
   "source": [
    "## Training\n",
    "I decided to use Adam optimizer with higher than default learning rate. <br>\n",
    "It will be decreased because of using scheduler (ReduceLROnPlateau). If metric has stopped improving in following 3 epochs, then learning rate will be divided by 2."
   ]
  },
  {
   "cell_type": "code",
   "execution_count": 9,
   "metadata": {},
   "outputs": [
    {
     "name": "stderr",
     "output_type": "stream",
     "text": [
      "\r",
      "  0%|          | 0/100 [00:00<?, ?it/s]"
     ]
    },
    {
     "name": "stdout",
     "output_type": "stream",
     "text": [
      "EPOCH: 0\n",
      "Train accuracy: 0.5496094532345284\n",
      "Loss: 0.010985177101173072\n"
     ]
    },
    {
     "name": "stderr",
     "output_type": "stream",
     "text": [
      "\r",
      "  1%|          | 1/100 [07:42<12:43:54, 462.98s/it]"
     ]
    },
    {
     "name": "stdout",
     "output_type": "stream",
     "text": [
      "Validation ROC_AUC score: 0.5187027943467829\n",
      "\n",
      "EPOCH: 1\n",
      "Train accuracy: 0.5653715201281795\n",
      "Loss: 0.010607576722399687\n"
     ]
    },
    {
     "name": "stderr",
     "output_type": "stream",
     "text": [
      "\r",
      "  2%|▏         | 2/100 [14:38<12:12:52, 448.70s/it]"
     ]
    },
    {
     "name": "stdout",
     "output_type": "stream",
     "text": [
      "Validation ROC_AUC score: 0.5554890950249038\n",
      "\n",
      "EPOCH: 2\n",
      "Train accuracy: 0.566953735229321\n",
      "Loss: 0.01054849476726409\n"
     ]
    },
    {
     "name": "stderr",
     "output_type": "stream",
     "text": [
      "\r",
      "  3%|▎         | 3/100 [21:38<11:51:18, 439.99s/it]"
     ]
    },
    {
     "name": "stdout",
     "output_type": "stream",
     "text": [
      "Validation ROC_AUC score: 0.5764589972973644\n",
      "\n",
      "EPOCH: 3\n",
      "Train accuracy: 0.5668936511115562\n",
      "Loss: 0.010506409188800027\n"
     ]
    },
    {
     "name": "stderr",
     "output_type": "stream",
     "text": [
      "\r",
      "  4%|▍         | 4/100 [28:58<11:43:59, 440.00s/it]"
     ]
    },
    {
     "name": "stdout",
     "output_type": "stream",
     "text": [
      "Validation ROC_AUC score: 0.5868434592774064\n",
      "\n",
      "EPOCH: 4\n",
      "Train accuracy: 0.5661125575806129\n",
      "Loss: 0.010550967659879586\n"
     ]
    },
    {
     "name": "stderr",
     "output_type": "stream",
     "text": [
      "\r",
      "  5%|▌         | 5/100 [35:59<11:27:39, 434.31s/it]"
     ]
    },
    {
     "name": "stdout",
     "output_type": "stream",
     "text": [
      "Validation ROC_AUC score: 0.5750342658420102\n",
      "\n",
      "EPOCH: 5\n",
      "Train accuracy: 0.5694772681754456\n",
      "Loss: 0.010499014908508669\n"
     ]
    },
    {
     "name": "stderr",
     "output_type": "stream",
     "text": [
      "\r",
      "  6%|▌         | 6/100 [42:47<11:08:02, 426.41s/it]"
     ]
    },
    {
     "name": "stdout",
     "output_type": "stream",
     "text": [
      "Validation ROC_AUC score: 0.5895872813909002\n",
      "\n",
      "EPOCH: 6\n",
      "Train accuracy: 0.5815742038854396\n",
      "Loss: 0.010419144452919398\n"
     ]
    },
    {
     "name": "stderr",
     "output_type": "stream",
     "text": [
      "\r",
      "  7%|▋         | 7/100 [49:35<10:52:25, 420.92s/it]"
     ]
    },
    {
     "name": "stdout",
     "output_type": "stream",
     "text": [
      "Validation ROC_AUC score: 0.5959046658202096\n",
      "\n",
      "EPOCH: 7\n",
      "Train accuracy: 0.5928099339074705\n",
      "Loss: 0.010355690741214297\n"
     ]
    },
    {
     "name": "stderr",
     "output_type": "stream",
     "text": [
      "\r",
      "  8%|▊         | 8/100 [56:21<10:38:42, 416.55s/it]"
     ]
    },
    {
     "name": "stdout",
     "output_type": "stream",
     "text": [
      "Validation ROC_AUC score: 0.6087844070741492\n",
      "\n",
      "EPOCH: 8\n",
      "Train accuracy: 0.5954336070498698\n",
      "Loss: 0.010283827264777362\n"
     ]
    },
    {
     "name": "stderr",
     "output_type": "stream",
     "text": [
      "\r",
      "  9%|▉         | 9/100 [1:03:06<10:26:37, 413.16s/it]"
     ]
    },
    {
     "name": "stdout",
     "output_type": "stream",
     "text": [
      "Validation ROC_AUC score: 0.6158474599402584\n",
      "\n",
      "EPOCH: 9\n",
      "Train accuracy: 0.5953534948928499\n",
      "Loss: 0.01027099175668541\n"
     ]
    },
    {
     "name": "stderr",
     "output_type": "stream",
     "text": [
      "\r",
      " 10%|█         | 10/100 [1:09:51<10:16:03, 410.71s/it]"
     ]
    },
    {
     "name": "stdout",
     "output_type": "stream",
     "text": [
      "Validation ROC_AUC score: 0.6121281081792989\n",
      "\n",
      "EPOCH: 10\n",
      "Train accuracy: 0.6011415982375325\n",
      "Loss: 0.010216157264588186\n"
     ]
    },
    {
     "name": "stderr",
     "output_type": "stream",
     "text": [
      "\r",
      " 11%|█         | 11/100 [1:16:36<10:06:43, 409.03s/it]"
     ]
    },
    {
     "name": "stdout",
     "output_type": "stream",
     "text": [
      "Validation ROC_AUC score: 0.6157324605872405\n",
      "\n",
      "EPOCH: 11\n",
      "Train accuracy: 0.6036250751051472\n",
      "Loss: 0.010168615266480762\n"
     ]
    },
    {
     "name": "stderr",
     "output_type": "stream",
     "text": [
      "\r",
      " 12%|█▏        | 12/100 [1:23:21<9:58:05, 407.79s/it] "
     ]
    },
    {
     "name": "stdout",
     "output_type": "stream",
     "text": [
      "Validation ROC_AUC score: 0.6190955707161794\n",
      "\n",
      "EPOCH: 12\n",
      "Train accuracy: 0.6076106549168836\n",
      "Loss: 0.010121095559531596\n"
     ]
    },
    {
     "name": "stderr",
     "output_type": "stream",
     "text": [
      "\r",
      " 13%|█▎        | 13/100 [1:30:06<9:49:50, 406.78s/it]"
     ]
    },
    {
     "name": "stdout",
     "output_type": "stream",
     "text": [
      "Validation ROC_AUC score: 0.6207906091975408\n",
      "\n",
      "EPOCH: 13\n",
      "Train accuracy: 0.6078109353094332\n",
      "Loss: 0.0100890629908233\n"
     ]
    },
    {
     "name": "stderr",
     "output_type": "stream",
     "text": [
      "\r",
      " 14%|█▍        | 14/100 [1:36:50<9:42:03, 406.09s/it]"
     ]
    },
    {
     "name": "stdout",
     "output_type": "stream",
     "text": [
      "Validation ROC_AUC score: 0.623152402644208\n",
      "\n",
      "EPOCH: 14\n",
      "Train accuracy: 0.6129781694372121\n",
      "Loss: 0.010031665111027379\n"
     ]
    },
    {
     "name": "stderr",
     "output_type": "stream",
     "text": [
      "\r",
      " 15%|█▌        | 15/100 [1:43:35<9:34:37, 405.62s/it]"
     ]
    },
    {
     "name": "stdout",
     "output_type": "stream",
     "text": [
      "Validation ROC_AUC score: 0.6258293133013757\n",
      "\n",
      "EPOCH: 15\n",
      "Train accuracy: 0.610654916883637\n",
      "Loss: 0.010036676334231739\n"
     ]
    },
    {
     "name": "stderr",
     "output_type": "stream",
     "text": [
      "\r",
      " 16%|█▌        | 16/100 [1:50:19<9:27:13, 405.16s/it]"
     ]
    },
    {
     "name": "stdout",
     "output_type": "stream",
     "text": [
      "Validation ROC_AUC score: 0.6278297866580153\n",
      "\n",
      "EPOCH: 16\n",
      "Train accuracy: 0.6163629080712998\n",
      "Loss: 0.00997064912842052\n"
     ]
    },
    {
     "name": "stderr",
     "output_type": "stream",
     "text": [
      "\r",
      " 17%|█▋        | 17/100 [1:57:03<9:20:04, 404.87s/it]"
     ]
    },
    {
     "name": "stdout",
     "output_type": "stream",
     "text": [
      "Validation ROC_AUC score: 0.6263850474087139\n",
      "\n",
      "EPOCH: 17\n",
      "Train accuracy: 0.6217304225916283\n",
      "Loss: 0.009885996476863302\n"
     ]
    },
    {
     "name": "stderr",
     "output_type": "stream",
     "text": [
      "\r",
      " 18%|█▊        | 18/100 [2:03:47<9:13:00, 404.64s/it]"
     ]
    },
    {
     "name": "stdout",
     "output_type": "stream",
     "text": [
      "Validation ROC_AUC score: 0.6272560140452496\n",
      "\n",
      "EPOCH: 18\n",
      "Train accuracy: 0.6252353294612457\n",
      "Loss: 0.009849163692316979\n"
     ]
    },
    {
     "name": "stderr",
     "output_type": "stream",
     "text": [
      "\r",
      " 19%|█▉        | 19/100 [2:10:31<9:06:00, 404.45s/it]"
     ]
    },
    {
     "name": "stdout",
     "output_type": "stream",
     "text": [
      "Validation ROC_AUC score: 0.6273619475745413\n",
      "\n",
      "EPOCH: 19\n",
      "Train accuracy: 0.626957740837172\n",
      "Loss: 0.009804618969520873\n"
     ]
    },
    {
     "name": "stderr",
     "output_type": "stream",
     "text": [
      "\r",
      " 20%|██        | 20/100 [2:17:15<8:59:02, 404.28s/it]"
     ]
    },
    {
     "name": "stdout",
     "output_type": "stream",
     "text": [
      "Validation ROC_AUC score: 0.6295476937240788\n",
      "\n",
      "EPOCH: 20\n",
      "Train accuracy: 0.6290206288804326\n",
      "Loss: 0.009757447111422759\n"
     ]
    },
    {
     "name": "stderr",
     "output_type": "stream",
     "text": [
      "\r",
      " 21%|██        | 21/100 [2:23:59<8:52:17, 404.27s/it]"
     ]
    },
    {
     "name": "stdout",
     "output_type": "stream",
     "text": [
      "Validation ROC_AUC score: 0.6311943027879918\n",
      "\n",
      "EPOCH: 21\n",
      "Train accuracy: 0.6335669937913079\n",
      "Loss: 0.009688145683878007\n"
     ]
    },
    {
     "name": "stderr",
     "output_type": "stream",
     "text": [
      "\r",
      " 22%|██▏       | 22/100 [2:30:43<8:45:17, 404.07s/it]"
     ]
    },
    {
     "name": "stdout",
     "output_type": "stream",
     "text": [
      "Validation ROC_AUC score: 0.6309977376334468\n",
      "\n",
      "EPOCH: 22\n",
      "Train accuracy: 0.6348287602643701\n",
      "Loss: 0.00967444889105658\n"
     ]
    },
    {
     "name": "stderr",
     "output_type": "stream",
     "text": [
      "\r",
      " 23%|██▎       | 23/100 [2:37:26<8:38:21, 403.91s/it]"
     ]
    },
    {
     "name": "stdout",
     "output_type": "stream",
     "text": [
      "Validation ROC_AUC score: 0.6276627785726046\n",
      "\n",
      "EPOCH: 23\n",
      "Train accuracy: 0.6388343681153615\n",
      "Loss: 0.009618213837237008\n"
     ]
    },
    {
     "name": "stderr",
     "output_type": "stream",
     "text": [
      "\r",
      " 24%|██▍       | 24/100 [2:44:10<8:31:29, 403.81s/it]"
     ]
    },
    {
     "name": "stdout",
     "output_type": "stream",
     "text": [
      "Validation ROC_AUC score: 0.6327536244688676\n",
      "\n",
      "EPOCH: 24\n",
      "Train accuracy: 0.6377127979170839\n",
      "Loss: 0.009558238241587998\n"
     ]
    },
    {
     "name": "stderr",
     "output_type": "stream",
     "text": [
      "\r",
      " 25%|██▌       | 25/100 [2:50:53<8:24:38, 403.71s/it]"
     ]
    },
    {
     "name": "stdout",
     "output_type": "stream",
     "text": [
      "Validation ROC_AUC score: 0.6298774874564527\n",
      "\n",
      "EPOCH: 25\n",
      "Train accuracy: 0.6426597236130582\n",
      "Loss: 0.00949497308135152\n"
     ]
    },
    {
     "name": "stderr",
     "output_type": "stream",
     "text": [
      "\r",
      " 26%|██▌       | 26/100 [2:57:37<8:17:55, 403.72s/it]"
     ]
    },
    {
     "name": "stdout",
     "output_type": "stream",
     "text": [
      "Validation ROC_AUC score: 0.6285971217038667\n",
      "\n",
      "EPOCH: 26\n",
      "Train accuracy: 0.6414980973362708\n",
      "Loss: 0.00953151960572761\n"
     ]
    },
    {
     "name": "stderr",
     "output_type": "stream",
     "text": [
      "\r",
      " 27%|██▋       | 27/100 [3:04:21<8:11:05, 403.64s/it]"
     ]
    },
    {
     "name": "stdout",
     "output_type": "stream",
     "text": [
      "Validation ROC_AUC score: 0.6329591046457654\n",
      "\n",
      "EPOCH: 27\n",
      "Train accuracy: 0.6491087522531545\n",
      "Loss: 0.009404305475354553\n"
     ]
    },
    {
     "name": "stderr",
     "output_type": "stream",
     "text": [
      "\r",
      " 28%|██▊       | 28/100 [3:11:04<8:04:23, 403.65s/it]"
     ]
    },
    {
     "name": "stdout",
     "output_type": "stream",
     "text": [
      "Validation ROC_AUC score: 0.6239504967348442\n",
      "\n",
      "EPOCH: 28\n",
      "Train accuracy: 0.6531944722611657\n",
      "Loss: 0.009305632861557547\n"
     ]
    },
    {
     "name": "stderr",
     "output_type": "stream",
     "text": [
      "\r",
      " 29%|██▉       | 29/100 [3:17:48<7:57:38, 403.65s/it]"
     ]
    },
    {
     "name": "stdout",
     "output_type": "stream",
     "text": [
      "Validation ROC_AUC score: 0.6304827952975413\n",
      "\n",
      "EPOCH: 29\n",
      "Train accuracy: 0.6304426196675346\n",
      "Loss: 0.009706599305775752\n"
     ]
    },
    {
     "name": "stderr",
     "output_type": "stream",
     "text": [
      "\r",
      " 30%|███       | 30/100 [3:24:32<7:51:08, 403.83s/it]"
     ]
    },
    {
     "name": "stdout",
     "output_type": "stream",
     "text": [
      "Validation ROC_AUC score: 0.6296247665317536\n",
      "\n",
      "EPOCH: 30\n",
      "Train accuracy: 0.6302823953534948\n",
      "Loss: 0.00969815067148581\n"
     ]
    },
    {
     "name": "stderr",
     "output_type": "stream",
     "text": [
      "\r",
      " 31%|███       | 31/100 [3:31:16<7:44:20, 403.78s/it]"
     ]
    },
    {
     "name": "stdout",
     "output_type": "stream",
     "text": [
      "Validation ROC_AUC score: 0.6366473380998454\n",
      "\n",
      "EPOCH: 31\n",
      "Train accuracy: 0.6356699379130784\n",
      "Loss: 0.00962772977667296\n"
     ]
    },
    {
     "name": "stderr",
     "output_type": "stream",
     "text": [
      "\r",
      " 32%|███▏      | 32/100 [3:38:00<7:37:34, 403.75s/it]"
     ]
    },
    {
     "name": "stdout",
     "output_type": "stream",
     "text": [
      "Validation ROC_AUC score: 0.6361518535764085\n",
      "\n",
      "EPOCH: 32\n",
      "Train accuracy: 0.6527538553975566\n",
      "Loss: 0.00928564135730565\n"
     ]
    },
    {
     "name": "stderr",
     "output_type": "stream",
     "text": [
      "\r",
      " 33%|███▎      | 33/100 [3:44:43<7:30:52, 403.77s/it]"
     ]
    },
    {
     "name": "stdout",
     "output_type": "stream",
     "text": [
      "Validation ROC_AUC score: 0.6386459264393208\n",
      "\n",
      "EPOCH: 33\n",
      "Train accuracy: 0.664209893851392\n",
      "Loss: 0.009060879060414733\n"
     ]
    },
    {
     "name": "stderr",
     "output_type": "stream",
     "text": [
      "\r",
      " 34%|███▍      | 34/100 [3:51:27<7:24:08, 403.76s/it]"
     ]
    },
    {
     "name": "stdout",
     "output_type": "stream",
     "text": [
      "Validation ROC_AUC score: 0.6421912489803498\n",
      "\n",
      "EPOCH: 34\n",
      "Train accuracy: 0.6729821750450631\n",
      "Loss: 0.008874177429866103\n"
     ]
    },
    {
     "name": "stderr",
     "output_type": "stream",
     "text": [
      "\r",
      " 35%|███▌      | 35/100 [3:58:11<7:17:20, 403.70s/it]"
     ]
    },
    {
     "name": "stdout",
     "output_type": "stream",
     "text": [
      "Validation ROC_AUC score: 0.6525729743590031\n",
      "\n",
      "EPOCH: 35\n",
      "Train accuracy: 0.6783096334868817\n",
      "Loss: 0.008704078772388608\n"
     ]
    },
    {
     "name": "stderr",
     "output_type": "stream",
     "text": [
      "\r",
      " 36%|███▌      | 36/100 [4:04:54<7:10:34, 403.67s/it]"
     ]
    },
    {
     "name": "stdout",
     "output_type": "stream",
     "text": [
      "Validation ROC_AUC score: 0.6520946767567688\n",
      "\n",
      "EPOCH: 36\n",
      "Train accuracy: 0.6819747646705387\n",
      "Loss: 0.008631291543035631\n"
     ]
    },
    {
     "name": "stderr",
     "output_type": "stream",
     "text": [
      "\r",
      " 37%|███▋      | 37/100 [4:11:38<7:03:45, 403.58s/it]"
     ]
    },
    {
     "name": "stdout",
     "output_type": "stream",
     "text": [
      "Validation ROC_AUC score: 0.6532576081576944\n",
      "\n",
      "EPOCH: 37\n",
      "Train accuracy: 0.6867814940917284\n",
      "Loss: 0.00860838118396683\n"
     ]
    },
    {
     "name": "stderr",
     "output_type": "stream",
     "text": [
      "\r",
      " 38%|███▊      | 38/100 [4:18:21<6:57:01, 403.57s/it]"
     ]
    },
    {
     "name": "stdout",
     "output_type": "stream",
     "text": [
      "Validation ROC_AUC score: 0.6590146102491053\n",
      "\n",
      "EPOCH: 38\n",
      "Train accuracy: 0.6853995593831363\n",
      "Loss: 0.00852914781565391\n"
     ]
    },
    {
     "name": "stderr",
     "output_type": "stream",
     "text": [
      "\r",
      " 39%|███▉      | 39/100 [4:25:05<6:50:26, 403.71s/it]"
     ]
    },
    {
     "name": "stdout",
     "output_type": "stream",
     "text": [
      "Validation ROC_AUC score: 0.6610703833563398\n",
      "\n",
      "EPOCH: 39\n",
      "Train accuracy: 0.6983977568596035\n",
      "Loss: 0.008279633269739095\n"
     ]
    },
    {
     "name": "stderr",
     "output_type": "stream",
     "text": [
      "\r",
      " 40%|████      | 40/100 [4:31:49<6:43:36, 403.61s/it]"
     ]
    },
    {
     "name": "stdout",
     "output_type": "stream",
     "text": [
      "Validation ROC_AUC score: 0.6589267950612622\n",
      "\n",
      "EPOCH: 40\n",
      "Train accuracy: 0.7045463649108752\n",
      "Loss: 0.008115844068582075\n"
     ]
    },
    {
     "name": "stderr",
     "output_type": "stream",
     "text": [
      "\r",
      " 41%|████      | 41/100 [4:38:32<6:36:53, 403.62s/it]"
     ]
    },
    {
     "name": "stdout",
     "output_type": "stream",
     "text": [
      "Validation ROC_AUC score: 0.670670598360067\n",
      "\n",
      "EPOCH: 41\n",
      "Train accuracy: 0.7072501502102944\n",
      "Loss: 0.008156850366468375\n"
     ]
    },
    {
     "name": "stderr",
     "output_type": "stream",
     "text": [
      "\r",
      " 42%|████▏     | 42/100 [4:45:16<6:30:05, 403.54s/it]"
     ]
    },
    {
     "name": "stdout",
     "output_type": "stream",
     "text": [
      "Validation ROC_AUC score: 0.670150240480732\n",
      "\n",
      "EPOCH: 42\n",
      "Train accuracy: 0.7169637492489486\n",
      "Loss: 0.00789367186939674\n"
     ]
    },
    {
     "name": "stderr",
     "output_type": "stream",
     "text": [
      "\r",
      " 43%|████▎     | 43/100 [4:51:59<6:23:21, 403.53s/it]"
     ]
    },
    {
     "name": "stdout",
     "output_type": "stream",
     "text": [
      "Validation ROC_AUC score: 0.6682881451252805\n",
      "\n",
      "EPOCH: 43\n",
      "Train accuracy: 0.720008011215702\n",
      "Loss: 0.007806710965503153\n"
     ]
    },
    {
     "name": "stderr",
     "output_type": "stream",
     "text": [
      "\r",
      " 44%|████▍     | 44/100 [4:58:42<6:16:32, 403.43s/it]"
     ]
    },
    {
     "name": "stdout",
     "output_type": "stream",
     "text": [
      "Validation ROC_AUC score: 0.6703697097026552\n",
      "\n",
      "EPOCH: 44\n",
      "Train accuracy: 0.7220308431804526\n",
      "Loss: 0.007822161917749105\n"
     ]
    },
    {
     "name": "stderr",
     "output_type": "stream",
     "text": [
      "\r",
      " 45%|████▌     | 45/100 [5:05:26<6:09:49, 403.44s/it]"
     ]
    },
    {
     "name": "stdout",
     "output_type": "stream",
     "text": [
      "Validation ROC_AUC score: 0.6687370586364261\n",
      "\n",
      "Epoch    44: reducing learning rate of group 0 to 4.0000e-03.\n",
      "EPOCH: 45\n",
      "Train accuracy: 0.7360704986981774\n",
      "Loss: 0.007478110465298655\n"
     ]
    },
    {
     "name": "stderr",
     "output_type": "stream",
     "text": [
      "\r",
      " 46%|████▌     | 46/100 [5:12:09<6:03:06, 403.45s/it]"
     ]
    },
    {
     "name": "stdout",
     "output_type": "stream",
     "text": [
      "Validation ROC_AUC score: 0.6793763128423806\n",
      "\n",
      "EPOCH: 46\n",
      "Train accuracy: 0.7492088924494292\n",
      "Loss: 0.007172435755295987\n"
     ]
    },
    {
     "name": "stderr",
     "output_type": "stream",
     "text": [
      "\r",
      " 47%|████▋     | 47/100 [5:18:53<5:56:23, 403.45s/it]"
     ]
    },
    {
     "name": "stdout",
     "output_type": "stream",
     "text": [
      "Validation ROC_AUC score: 0.6798507871862725\n",
      "\n",
      "EPOCH: 47\n",
      "Train accuracy: 0.7580813138393752\n",
      "Loss: 0.006973919254154934\n"
     ]
    },
    {
     "name": "stderr",
     "output_type": "stream",
     "text": [
      "\r",
      " 48%|████▊     | 48/100 [5:25:38<5:50:10, 404.05s/it]"
     ]
    },
    {
     "name": "stdout",
     "output_type": "stream",
     "text": [
      "Validation ROC_AUC score: 0.6809660742239568\n",
      "\n",
      "EPOCH: 48\n",
      "Train accuracy: 0.7650510715001001\n",
      "Loss: 0.006833888795233107\n"
     ]
    },
    {
     "name": "stderr",
     "output_type": "stream",
     "text": [
      "\r",
      " 49%|████▉     | 49/100 [5:32:22<5:43:22, 403.98s/it]"
     ]
    },
    {
     "name": "stdout",
     "output_type": "stream",
     "text": [
      "Validation ROC_AUC score: 0.6814374793163719\n",
      "\n",
      "EPOCH: 49\n",
      "Train accuracy: 0.7682555577808933\n",
      "Loss: 0.006766616660492946\n"
     ]
    },
    {
     "name": "stderr",
     "output_type": "stream",
     "text": [
      "\r",
      " 50%|█████     | 50/100 [5:39:05<5:36:31, 403.83s/it]"
     ]
    },
    {
     "name": "stdout",
     "output_type": "stream",
     "text": [
      "Validation ROC_AUC score: 0.6774923645938281\n",
      "\n",
      "EPOCH: 50\n",
      "Train accuracy: 0.7757059883837373\n",
      "Loss: 0.0066452745753083605\n"
     ]
    },
    {
     "name": "stderr",
     "output_type": "stream",
     "text": [
      "\r",
      " 51%|█████     | 51/100 [5:45:49<5:29:42, 403.73s/it]"
     ]
    },
    {
     "name": "stdout",
     "output_type": "stream",
     "text": [
      "Validation ROC_AUC score: 0.685988128082064\n",
      "\n",
      "EPOCH: 51\n",
      "Train accuracy: 0.7802523532946125\n",
      "Loss: 0.006483802577210104\n"
     ]
    },
    {
     "name": "stderr",
     "output_type": "stream",
     "text": [
      "\r",
      " 52%|█████▏    | 52/100 [5:52:32<5:22:55, 403.66s/it]"
     ]
    },
    {
     "name": "stdout",
     "output_type": "stream",
     "text": [
      "Validation ROC_AUC score: 0.6850201784212656\n",
      "\n",
      "EPOCH: 52\n",
      "Train accuracy: 0.7815341478069296\n",
      "Loss: 0.006520171540071573\n"
     ]
    },
    {
     "name": "stderr",
     "output_type": "stream",
     "text": [
      "\r",
      " 53%|█████▎    | 53/100 [5:59:16<5:16:09, 403.60s/it]"
     ]
    },
    {
     "name": "stdout",
     "output_type": "stream",
     "text": [
      "Validation ROC_AUC score: 0.6784569256590657\n",
      "\n",
      "EPOCH: 53\n",
      "Train accuracy: 0.7906469056679352\n",
      "Loss: 0.006307033951925703\n"
     ]
    },
    {
     "name": "stderr",
     "output_type": "stream",
     "text": [
      "\r",
      " 54%|█████▍    | 54/100 [6:05:59<5:09:23, 403.56s/it]"
     ]
    },
    {
     "name": "stdout",
     "output_type": "stream",
     "text": [
      "Validation ROC_AUC score: 0.6774247967079954\n",
      "\n",
      "EPOCH: 54\n",
      "Train accuracy: 0.7959543360704987\n",
      "Loss: 0.006170150557623465\n"
     ]
    },
    {
     "name": "stderr",
     "output_type": "stream",
     "text": [
      "\r",
      " 55%|█████▌    | 55/100 [6:12:43<5:02:38, 403.53s/it]"
     ]
    },
    {
     "name": "stdout",
     "output_type": "stream",
     "text": [
      "Validation ROC_AUC score: 0.6828226121052752\n",
      "\n",
      "Epoch    54: reducing learning rate of group 0 to 2.0000e-03.\n",
      "EPOCH: 55\n",
      "Train accuracy: 0.8035249349088724\n",
      "Loss: 0.00603766038798918\n"
     ]
    },
    {
     "name": "stderr",
     "output_type": "stream",
     "text": [
      "\r",
      " 56%|█████▌    | 56/100 [6:19:26<4:55:53, 403.48s/it]"
     ]
    },
    {
     "name": "stdout",
     "output_type": "stream",
     "text": [
      "Validation ROC_AUC score: 0.6816591662055471\n",
      "\n",
      "EPOCH: 56\n",
      "Train accuracy: 0.8135990386541158\n",
      "Loss: 0.00578145199444924\n"
     ]
    },
    {
     "name": "stderr",
     "output_type": "stream",
     "text": [
      "\r",
      " 57%|█████▋    | 57/100 [6:26:10<4:49:16, 403.63s/it]"
     ]
    },
    {
     "name": "stdout",
     "output_type": "stream",
     "text": [
      "Validation ROC_AUC score: 0.6747694373411823\n",
      "\n",
      "EPOCH: 57\n",
      "Train accuracy: 0.8200480672942119\n",
      "Loss: 0.0056218991301710455\n"
     ]
    },
    {
     "name": "stderr",
     "output_type": "stream",
     "text": [
      "\r",
      " 58%|█████▊    | 58/100 [6:32:54<4:42:30, 403.60s/it]"
     ]
    },
    {
     "name": "stdout",
     "output_type": "stream",
     "text": [
      "Validation ROC_AUC score: 0.6737005217257366\n",
      "\n",
      "EPOCH: 58\n",
      "Train accuracy: 0.8258561986781494\n",
      "Loss: 0.0055031281469549555\n"
     ]
    },
    {
     "name": "stderr",
     "output_type": "stream",
     "text": [
      "\r",
      " 59%|█████▉    | 59/100 [6:39:37<4:35:49, 403.64s/it]"
     ]
    },
    {
     "name": "stdout",
     "output_type": "stream",
     "text": [
      "Validation ROC_AUC score: 0.6768519954334861\n",
      "\n",
      "Epoch    58: reducing learning rate of group 0 to 1.0000e-03.\n",
      "EPOCH: 59\n",
      "Train accuracy: 0.8315441618265572\n",
      "Loss: 0.0053562847315003085\n"
     ]
    }
   ],
   "source": [
    "import torch.optim as optim\n",
    "from sklearn.metrics import roc_auc_score\n",
    "from tqdm import trange\n",
    "\n",
    "optimizer: torch.optim.Optimizer = optim.Adam(model.parameters(), lr=0.008, amsgrad=True)\n",
    "scheduler = torch.optim.lr_scheduler.ReduceLROnPlateau(optimizer, mode='max', factor=0.5, \n",
    "                                                       patience=3, verbose=True)\n",
    "\n",
    "criterion = torch.nn.BCELoss()\n",
    "epoch: int = 100\n",
    "\n",
    "best_validation_roc_auc = 0\n",
    "epochs_without_improvement = 0\n",
    "MAX_POSSIBLE_EPOCHS_WITHOUT_IMPROVEMENT = 30\n",
    "\n",
    "predictions_from_the_best_model = None\n",
    "predictions_from_the_best_model_validation = None\n",
    "\n",
    "labels_train_from_the_best_model = None\n",
    "labels_validation_from_the_best_model = None\n",
    "\n",
    "for e in trange(epoch):\n",
    "    print(f\"EPOCH: {e}\")\n",
    "    \n",
    "    preds_train = []\n",
    "    labels_train = []\n",
    "    correct_train: int = 0 \n",
    "    loss_train : int = 0\n",
    "    for i, (x, y) in enumerate(train_dataloader):\n",
    "        correct_in_batch = 0\n",
    "        optimizer.zero_grad()\n",
    "        output: torch.Tensor = model(x.view(-1, 1, x.shape[1], x.shape[2]))\n",
    "        preds_train.append(output.flatten())\n",
    "        labels_train.append(y)\n",
    "        loss: torch.Tensor = criterion(output.view(-1), y)\n",
    "        loss.backward()\n",
    "        optimizer.step()\n",
    "        for predicted, correct in zip(output.view(-1), y): \n",
    "            if predicted >= 0.5 and correct==1:\n",
    "                correct_in_batch += 1\n",
    "            if predicted < 0.5 and correct==0:\n",
    "                correct_in_batch += 1\n",
    "        correct_train += correct_in_batch\n",
    "        loss_train += loss.item()\n",
    "    preds_train = torch.cat(preds_train)\n",
    "    labels_train = torch.cat(labels_train)\n",
    "    print(f\"Train accuracy: {correct_train / len(train_X)}\")\n",
    "    print(f\"Loss: {loss_train / len(train_X)}\")\n",
    "    \n",
    "    with torch.no_grad():\n",
    "        preds = []\n",
    "        validation_y = []\n",
    "        for i, (x, y) in enumerate(validation_dataloader):\n",
    "            output: torch.Tensor = model(x.view(-1, 1, x.shape[1], x.shape[2]))\n",
    "            preds.append(output.flatten())\n",
    "            validation_y.append(y)\n",
    "        preds = torch.cat(preds)\n",
    "        validation_y = torch.cat(validation_y)\n",
    "        score = roc_auc_score(validation_y.numpy(), preds.numpy())\n",
    "        if score > best_validation_roc_auc:\n",
    "            best_validation_roc_auc = score\n",
    "            torch.save(model.state_dict(), '../../saved_model/model.pt')\n",
    "            predictions_from_the_best_model = preds_train\n",
    "            predictions_from_the_best_model_validation = preds\n",
    "            labels_train_from_the_best_model = labels_train\n",
    "            labels_validation_from_the_best_model = validation_y\n",
    "            epochs_without_improvements = 0\n",
    "        else:\n",
    "            epochs_without_improvement += 1\n",
    "            \n",
    "        if epochs_without_improvement == MAX_POSSIBLE_EPOCHS_WITHOUT_IMPROVEMENT:\n",
    "            break\n",
    "        print(f\"Validation ROC_AUC score: {score}\\n\")\n",
    "        scheduler.step(score)"
   ]
  },
  {
   "cell_type": "code",
   "execution_count": 10,
   "metadata": {},
   "outputs": [
    {
     "name": "stdout",
     "output_type": "stream",
     "text": [
      "The highest validation roc auc: 0.685988128082064\n"
     ]
    }
   ],
   "source": [
    "print(f\"The highest validation roc auc: {best_validation_roc_auc}\")"
   ]
  },
  {
   "cell_type": "markdown",
   "metadata": {},
   "source": [
    "## Prepare data for second model (classifier)"
   ]
  },
  {
   "cell_type": "code",
   "execution_count": 11,
   "metadata": {},
   "outputs": [],
   "source": [
    "train_input_for_second_model = []\n",
    "for i in range(0, len(predictions_from_the_best_model), 10):\n",
    "    train_input_for_second_model.append(predictions_from_the_best_model[i : i+10].clone().detach())\n",
    "    \n",
    "train_labels_for_second_model = []\n",
    "for i in range(0, len(labels_train_from_the_best_model), 10):\n",
    "    train_labels_for_second_model.append(torch.max(labels_train_from_the_best_model[i: i+10]))\n",
    "    \n",
    "    \n",
    "validation_input_for_second_model = []\n",
    "for i in range(0, len(predictions_from_the_best_model_validation), 10):\n",
    "    validation_input_for_second_model.append(predictions_from_the_best_model_validation[i : i+10].clone().detach())\n",
    "    \n",
    "validation_labels_for_second_model = []\n",
    "for i in range(0, len(labels_validation_from_the_best_model), 10):\n",
    "    validation_labels_for_second_model.append(torch.max(labels_validation_from_the_best_model[i: i+10]))\n",
    "    "
   ]
  },
  {
   "cell_type": "markdown",
   "metadata": {},
   "source": [
    "#### Check count of each class in train labels"
   ]
  },
  {
   "cell_type": "code",
   "execution_count": 12,
   "metadata": {},
   "outputs": [
    {
     "name": "stdout",
     "output_type": "stream",
     "text": [
      "2312\n",
      "2681\n"
     ]
    }
   ],
   "source": [
    "counter_one = 0\n",
    "counter_zero = 0\n",
    "for label in train_labels_for_second_model:\n",
    "    if label == 1:\n",
    "        counter_one +=1\n",
    "    else:\n",
    "        counter_zero +=1\n",
    "        \n",
    "print(counter_zero)\n",
    "print(counter_one)"
   ]
  },
  {
   "cell_type": "code",
   "execution_count": 13,
   "metadata": {},
   "outputs": [],
   "source": [
    "batch_size=64\n",
    "X_train_classifier: torch.Tensor = torch.stack(train_input_for_second_model)\n",
    "X_validation_classifier: torch.Tensor = torch.stack(validation_input_for_second_model)\n",
    "        \n",
    "y_train_classifier: torch.Tensor = torch.stack(train_labels_for_second_model)\n",
    "y_validation_classifier: torch.Tensor = torch.stack(validation_labels_for_second_model)\n",
    "\n",
    "train_dataset_classifier = TensorDataset(X_train_classifier, y_train_classifier)\n",
    "validation_dataset_classifier = TensorDataset(X_validation_classifier, y_validation_classifier)\n",
    "    \n",
    "train_dataloader_classifier = DataLoader(train_dataset_classifier, batch_size=batch_size, shuffle=True)\n",
    "validation_dataloader_classifier = DataLoader(validation_dataset_classifier, batch_size=batch_size, shuffle=True)"
   ]
  },
  {
   "cell_type": "code",
   "execution_count": 14,
   "metadata": {},
   "outputs": [],
   "source": [
    "data_for_classifier_directory = 'data/'\n",
    "p = pathlib.Path(data_for_classifier_directory)\n",
    "if not p.is_dir():\n",
    "    print(f'Creating directory: {data_for_classifier_directory} as it does not exist')\n",
    "    p.mkdir(parents=True, exist_ok=True)"
   ]
  },
  {
   "cell_type": "code",
   "execution_count": 15,
   "metadata": {},
   "outputs": [],
   "source": [
    "torch.save(X_train_classifier, data_for_classifier_directory + 'X_train_classifier.pt')\n",
    "torch.save(y_train_classifier, data_for_classifier_directory + 'y_train_classifier.pt')\n",
    "torch.save(X_validation_classifier, data_for_classifier_directory + 'X_validation_classifier.pt')\n",
    "torch.save(y_validation_classifier, data_for_classifier_directory + 'y_validation_classifier.pt')"
   ]
  }
 ],
 "metadata": {
  "kernelspec": {
   "display_name": "Python 3",
   "language": "python",
   "name": "python3"
  },
  "language_info": {
   "codemirror_mode": {
    "name": "ipython",
    "version": 3
   },
   "file_extension": ".py",
   "mimetype": "text/x-python",
   "name": "python",
   "nbconvert_exporter": "python",
   "pygments_lexer": "ipython3",
   "version": "3.6.8"
  }
 },
 "nbformat": 4,
 "nbformat_minor": 2
}
