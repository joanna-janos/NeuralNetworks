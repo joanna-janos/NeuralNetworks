{
 "cells": [
  {
   "cell_type": "markdown",
   "metadata": {},
   "source": [
    "# Lab 4. Konwolucje\n",
    "\n",
    "Zadanie dla Państwa na te ćwiczenia (z dokończeniem jako praca domowa) to implementacja funkcji konwolucji oraz max pooling dla obrazów."
   ]
  },
  {
   "cell_type": "code",
   "execution_count": 1,
   "metadata": {},
   "outputs": [],
   "source": [
    "%matplotlib inline\n",
    "import torch\n",
    "import numpy as np\n",
    "import matplotlib.pyplot as plt"
   ]
  },
  {
   "cell_type": "code",
   "execution_count": 2,
   "metadata": {},
   "outputs": [
    {
     "data": {
      "text/plain": [
       "<matplotlib.image.AxesImage at 0x112379eb8>"
      ]
     },
     "execution_count": 2,
     "metadata": {},
     "output_type": "execute_result"
    },
    {
     "data": {
      "image/png": "[encoded data removed]",
      "text/plain": [
       "<Figure size 432x288 with 1 Axes>"
      ]
     },
     "metadata": {
      "needs_background": "light"
     },
     "output_type": "display_data"
    }
   ],
   "source": [
    "# load data\n",
    "cifar_sample = np.load('utils/cifar_sample.npy')\n",
    "# get first random image and plot it\n",
    "sample_image = cifar_sample[0]\n",
    "plt.imshow(sample_image.transpose(1, 2, 0))"
   ]
  },
  {
   "cell_type": "markdown",
   "metadata": {},
   "source": [
    "### Wzory na rozmiary\n",
    "**Pytanie 1**: Jaki będzie rozmiar obrazka na wyjściu konwolucji/poolingu przy parametrach poniżej.  \n",
    "**Uwaga**: zarówno we wzorach jak i w kodzie używana jest torchowa konwencja *channel first*.\n",
    "\n",
    "Stride: $ \\hspace{95px} S $  \n",
    "Padding: $ \\hspace{80px} P $  \n",
    "Obrazek wejściowy: $ \\hspace{12px} C_i \\times H_i \\times W_i$  \n",
    "Filtry: $ \\hspace{100px} K \\times C_f \\times F \\times F $  \n",
    "\n",
    "Gdzie: $C_i$ to liczba kanału obrazu wejściowego, $H_i, W_i$ to odpowiednio wysokość i szerokość obrazu wejściowego. $K$ to liczba filtrów, $C_f$ liczba kanałów w każdym filtrze, $F$ to zarówno wysokość jak i szerokość filtra (rozważami tylko filtry kwadratowe).\n",
    "\n",
    "Obrazek wyjściowy: $ \\hspace{15px} C_o \\times H_o \\times W_o $  \n",
    "\n",
    "\n",
    "$ \\hspace{140px} C_o = ??? $  \n",
    "$ \\hspace{140px} H_o = ??? $  \n",
    "$ \\hspace{140px} W_o = ??? $  \n",
    "\n",
    "**Pytanie 2**: Ile wag (floatów) ma taka warstwa konwolucyja?  \n",
    "\n",
    "### Wizualna pomoc do konwolucji\n",
    "[Źródło](http://cs231n.github.io/convolutional-networks/)\n",
    "\n",
    "<img src=\"./utils/cnn.gif\"></img>\n",
    "\n",
    "### Zadanie\n",
    "Zadaniem jest zaimplementowanie funkcji konwolucji i poolingu dla obrazku 2D. Implementacja nie musi być optymalna pod względem złożoności czasowej (tzn. można/zaleca się używanie pętli). \n",
    "\n",
    "Warunkiem zaliczenia zadania jest przejście komórek testowych dla konwolucji i poolingu. W razie problemów polecam zacząć od poolingu, który w idea jest podobny do konwolucji, lecz mniej skomplikowany.\n",
    "\n",
    "### Konwolucja"
   ]
  },
  {
   "cell_type": "code",
   "execution_count": 3,
   "metadata": {},
   "outputs": [],
   "source": [
    "def convolution(image: torch.tensor,\n",
    "                filters: torch.tensor,\n",
    "                bias: torch.tensor,\n",
    "                stride: int = 1,\n",
    "                padding: int = 1):\n",
    "    \"\"\"\n",
    "    :param image: torch.Tensor \n",
    "        Input image of shape (C, H, W)\n",
    "    :param filters: torch.Tensor \n",
    "        Filters to use in convolution of shape (K, C, F, F)\n",
    "    :param bias: torch.Tensor \n",
    "        Bias vector of shape (K,)\n",
    "    :param stride: int\n",
    "        Stride to use in convolution\n",
    "    :param padding: int\n",
    "       Zero-padding to add on all sides of the image \n",
    "    \"\"\"\n",
    "    # get image dimensions\n",
    "    img_channels, img_height, img_width = image.shape\n",
    "    n_filters, filter_channels, filter_size, filter_size = filters.shape\n",
    "    # calculate the dimensions of the output image\n",
    "    out_height = int((img_height - filter_size + 2 * padding) / stride + 1)\n",
    "    out_width = int((img_width - filter_size + 2 * padding) / stride + 1)\n",
    "    out_channels = int(n_filters)\n",
    "\n",
    "    if padding:\n",
    "        zero_padding = torch.nn.ZeroPad2d(padding)\n",
    "        image = zero_padding(image)\n",
    "\n",
    "    out = []\n",
    "    for f in range(n_filters):\n",
    "        values_for_filter = []\n",
    "        for h in range(filter_size, image.shape[1] + 1, stride):\n",
    "            for w in range(filter_size, image.shape[2] + 1, stride):\n",
    "                sum_convolution_for_channels = []\n",
    "                for ch in range(img_channels):\n",
    "                    convolution = torch.sum(image[ch, h - filter_size:h, w - filter_size:w] * filters[f][ch])\n",
    "                    sum_convolution_for_channels.append(convolution.item())\n",
    "                values_for_filter.append(sum(sum_convolution_for_channels) + bias[f].item())\n",
    "        out.append(torch.Tensor(values_for_filter).reshape(out_height, out_width))\n",
    "    return torch.stack(out, dim=0)"
   ]
  },
  {
   "cell_type": "code",
   "execution_count": 4,
   "metadata": {},
   "outputs": [
    {
     "data": {
      "application/vnd.jupyter.widget-view+json": {
       "model_id": "205391cd5192451a9ad9b2d8ae5414f3",
       "version_major": 2,
       "version_minor": 0
      },
      "text/plain": [
       "HBox(children=(IntProgress(value=0, max=48), HTML(value='')))"
      ]
     },
     "metadata": {},
     "output_type": "display_data"
    },
    {
     "name": "stdout",
     "output_type": "stream",
     "text": [
      "\n"
     ]
    }
   ],
   "source": [
    "### Convolution Test ### \n",
    "\n",
    "from itertools import product\n",
    "from tqdm import tqdm_notebook as tqdm\n",
    "\n",
    "# cast the frog to tensor\n",
    "image = torch.tensor(np_image)\n",
    "# prepare parameters for testing\n",
    "paddings = [0, 1, 2, 3]\n",
    "strides = [1, 2, 3, 4]\n",
    "filters = [(torch.randn((2, 3, 3, 3)), torch.zeros((2))),\n",
    "           (torch.randn((2, 3, 5, 5)), torch.zeros((2))),\n",
    "           (torch.randn((5, 3, 1, 1)), torch.zeros((5)))]\n",
    "\n",
    "# test all combinations\n",
    "for (filt, bias), stride, padding in tqdm(product(filters, strides, paddings), total=4 * 4 * 3):\n",
    "    # your convolution\n",
    "    out = convolution(image, filt, bias, stride=stride, padding=padding)\n",
    "    # PyTorch equivalent\n",
    "    out_torch = torch.conv2d(input=image.unsqueeze(0), weight=filt, bias=bias, padding=padding, stride=stride)\n",
    "    # asserts\n",
    "    assert out_torch.squeeze().shape == out.shape\n",
    "    assert torch.allclose(out, out_torch.squeeze(), atol=1e-5, rtol=1e-5)"
   ]
  },
  {
   "cell_type": "markdown",
   "metadata": {},
   "source": [
    "### Max Pooling"
   ]
  },
  {
   "cell_type": "code",
   "execution_count": 5,
   "metadata": {},
   "outputs": [],
   "source": [
    "def max_pooling(image: torch.tensor,\n",
    "                kernel_size: int,\n",
    "                stride: int = 1,\n",
    "                padding: int = 1):\n",
    "    \"\"\"\n",
    "    :param image: torch.Tensor \n",
    "        Input image of shape (C, H, W)\n",
    "    :param kernel_size: int \n",
    "        Size of the square pooling kernel\n",
    "    :param stride: int\n",
    "        Stride to use in pooling\n",
    "    :param padding: int\n",
    "       Zero-padding to add on all sides of the image \n",
    "    \"\"\"\n",
    "    # get image dimensions\n",
    "    img_channels, img_height, img_width = image.shape\n",
    "    # calculate the dimensions of the output image\n",
    "    out_height = int((img_height - kernel_size + 2 * padding) / stride + 1)\n",
    "    out_width = int((img_width - kernel_size + 2 * padding) / stride + 1)\n",
    "    out_channels = int(img_channels)\n",
    "\n",
    "    if padding:\n",
    "        zero_padding = torch.nn.ZeroPad2d(padding)\n",
    "        image = zero_padding(image)\n",
    "\n",
    "    max_values_in_each_channel = []\n",
    "    for ch in range(out_channels):\n",
    "        max_values_in_current_channel = []\n",
    "        for h in range(kernel_size, image.shape[1] + 1, stride):\n",
    "            for w in range(kernel_size, image.shape[2] + 1, stride):\n",
    "                max_values_in_current_channel.append(torch.max(image[ch, h - kernel_size:h, w - kernel_size:w]))\n",
    "        max_values_in_current_channel = torch.Tensor(max_values_in_current_channel).reshape(out_height, out_width)\n",
    "        max_values_in_each_channel.append(max_values_in_current_channel)\n",
    "    return torch.stack(max_values_in_each_channel, dim=0)"
   ]
  },
  {
   "cell_type": "code",
   "execution_count": 6,
   "metadata": {},
   "outputs": [
    {
     "data": {
      "application/vnd.jupyter.widget-view+json": {
       "model_id": "6f07de3e6c974a82bfc9167f52d87c53",
       "version_major": 2,
       "version_minor": 0
      },
      "text/plain": [
       "HBox(children=(IntProgress(value=0, max=24), HTML(value='')))"
      ]
     },
     "metadata": {},
     "output_type": "display_data"
    },
    {
     "name": "stdout",
     "output_type": "stream",
     "text": [
      "\n"
     ]
    }
   ],
   "source": [
    "### Max Pooling Test ###\n",
    "\n",
    "from itertools import product\n",
    "from tqdm import tqdm_notebook as tqdm\n",
    "\n",
    "# cast the frog to tensor\n",
    "image = torch.tensor(np_image)\n",
    "# preapre parameters for testing\n",
    "kernel_sizes = [2, 3, 4]\n",
    "paddings = [0, 1]\n",
    "strides = [1, 2, 3, 4]\n",
    "\n",
    "# test all combinations\n",
    "for kernel_size, stride, padding in tqdm(product(kernel_sizes, strides, paddings), total=3 * 2 * 4):\n",
    "    # your pooling\n",
    "    out = max_pooling(image, kernel_size=kernel_size, stride=stride, padding=padding)\n",
    "    # PyTorch equivalent\n",
    "    out_torch = torch.nn.functional.max_pool2d(input=image.unsqueeze(0), kernel_size=kernel_size, padding=padding,\n",
    "                                               stride=stride)\n",
    "    # asserts\n",
    "    assert out_torch.squeeze().shape == out.shape\n",
    "    assert torch.allclose(out, out_torch.squeeze(), atol=1e-5, rtol=1e-5)"
   ]
  }
 ],
 "metadata": {
  "kernelspec": {
   "display_name": "Python 3",
   "language": "python",
   "name": "python3"
  },
  "language_info": {
   "codemirror_mode": {
    "name": "ipython",
    "version": 3
   },
   "file_extension": ".py",
   "mimetype": "text/x-python",
   "name": "python",
   "nbconvert_exporter": "python",
   "pygments_lexer": "ipython3",
   "version": "3.6.8"
  }
 },
 "nbformat": 4,
 "nbformat_minor": 2
}
